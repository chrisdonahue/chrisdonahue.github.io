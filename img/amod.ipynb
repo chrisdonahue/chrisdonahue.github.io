{
 "cells": [
  {
   "cell_type": "code",
   "execution_count": 114,
   "metadata": {
    "collapsed": false
   },
   "outputs": [
    {
     "name": "stdout",
     "output_type": "stream",
     "text": [
      "Populating the interactive namespace from numpy and matplotlib\n"
     ]
    }
   ],
   "source": [
    "%pylab inline"
   ]
  },
  {
   "cell_type": "code",
   "execution_count": 116,
   "metadata": {
    "collapsed": false
   },
   "outputs": [
    {
     "data": {
      "image/png": "[encoded data removed]",
      "text/plain": [
       "<PIL.PngImagePlugin.PngImageFile image mode=RGBA size=80x60 at 0x7F764B662F10>"
      ]
     },
     "metadata": {},
     "output_type": "display_data"
    }
   ],
   "source": [
    "dt = 1e-5\n",
    "\n",
    "fm = 0.5\n",
    "am = 0.9\n",
    "fc = 6\n",
    "linewidth = 15\n",
    "headroom = 0.1\n",
    "width = 800\n",
    "height = 600\n",
    "\n",
    "t = np.arange(0.0, 1.0, dt)\n",
    "\n",
    "xm = am * np.sin(2.0 * np.pi * t * fm)\n",
    "xc = np.cos(2.0 * np.pi * t * fc)\n",
    "\n",
    "xam = xm * xc\n",
    "\n",
    "dpi = 96.\n",
    "\n",
    "fig, ax = plt.subplots(1, figsize=(width/dpi, height/dpi), dpi=dpi)\n",
    "\n",
    "ax.set_xlim(0.0, 1.0)\n",
    "ax.set_ylim(-1.0, 1.0)\n",
    "ax.set_xticks([])\n",
    "ax.set_yticks([])\n",
    "ax.spines['left'].set_visible(False)\n",
    "ax.spines['right'].set_visible(False)\n",
    "ax.spines['top'].set_visible(False)\n",
    "ax.spines['bottom'].set_visible(False)\n",
    "ax.plot(t, xam, linewidth=linewidth, color='black')\n",
    "\n",
    "fig.savefig('ambig.png', transparent=True, bbox_inches='tight', pad_inches=0)\n",
    "\n",
    "plt.close()\n",
    "\n",
    "from PIL import Image\n",
    "import IPython.display\n",
    "\n",
    "thumbwidth = 80\n",
    "\n",
    "im = Image.open('ambig.png')\n",
    "im.thumbnail((80, 60), Image.BICUBIC)\n",
    "im.save('amod.png')\n",
    "\n",
    "IPython.display.display(im)"
   ]
  }
 ],
 "metadata": {
  "kernelspec": {
   "display_name": "Python 2",
   "language": "python",
   "name": "python2"
  },
  "language_info": {
   "codemirror_mode": {
    "name": "ipython",
    "version": 2
   },
   "file_extension": ".py",
   "mimetype": "text/x-python",
   "name": "python",
   "nbconvert_exporter": "python",
   "pygments_lexer": "ipython2",
   "version": "2.7.12"
  }
 },
 "nbformat": 4,
 "nbformat_minor": 1
}
